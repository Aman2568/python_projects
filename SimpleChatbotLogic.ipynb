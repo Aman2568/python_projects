{
  "nbformat": 4,
  "nbformat_minor": 0,
  "metadata": {
    "colab": {
      "provenance": [],
      "authorship_tag": "ABX9TyNR0d2C4OHuvN+Vvn/ukEr+",
      "include_colab_link": true
    },
    "kernelspec": {
      "name": "python3",
      "display_name": "Python 3"
    },
    "language_info": {
      "name": "python"
    }
  },
  "cells": [
    {
      "cell_type": "markdown",
      "metadata": {
        "id": "view-in-github",
        "colab_type": "text"
      },
      "source": [
        "<a href=\"https://colab.research.google.com/github/Aman2568/python_projects/blob/main/SimpleChatbotLogic.ipynb\" target=\"_parent\"><img src=\"https://colab.research.google.com/assets/colab-badge.svg\" alt=\"Open In Colab\"/></a>"
      ]
    },
    {
      "cell_type": "code",
      "execution_count": null,
      "metadata": {
        "id": "sZWC3EM-fsNL"
      },
      "outputs": [],
      "source": [
        "def chatbot_response(user_input):\n",
        "    user_input = user_input.lower()\n",
        "    if \"hello\" in user_input or \"hi\" in user_input:\n",
        "        return \"Hello! How can I assist you today?\"\n",
        "    elif \"how are you\" in user_input:\n",
        "        return \"I'm just a bot, but I'm here to help you!\"\n",
        "    elif \"time\" in user_input:\n",
        "        from datetime import datetime\n",
        "        current_time = datetime.now().strftime(\"%H:%M:%S\")\n",
        "        return f\"The current time is {current_time}.\"\n",
        "    elif \"name\" in user_input:\n",
        "        return \"I am a simple chatbot created to assist you.\"\n",
        "    elif \"bye\" in user_input or \"goodbye\" in user_input:\n",
        "        return \"Goodbye! Have a great day!\"\n",
        "    else:\n",
        "        return \"I'm sorry, I didn't understand that. Can you please rephrase?\"\n",
        "\n",
        "print(\"Chatbot: Hello! Type 'bye' to exit.\")\n",
        "while True:\n",
        "    user_input = input(\"You: \")\n",
        "    if user_input.lower() in [\"bye\", \"goodbye\"]:\n",
        "        print(\"Chatbot: Goodbye! Have a great day!\")\n",
        "        break\n",
        "    response = chatbot_response(user_input)\n",
        "    print(f\"Chatbot: {response}\")"
      ]
    }
  ]
}