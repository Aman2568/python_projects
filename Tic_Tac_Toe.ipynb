{
  "nbformat": 4,
  "nbformat_minor": 0,
  "metadata": {
    "colab": {
      "provenance": [],
      "authorship_tag": "ABX9TyOAwp8OkfAeKmyqyGWbB2m9",
      "include_colab_link": true
    },
    "kernelspec": {
      "name": "python3",
      "display_name": "Python 3"
    },
    "language_info": {
      "name": "python"
    }
  },
  "cells": [
    {
      "cell_type": "markdown",
      "metadata": {
        "id": "view-in-github",
        "colab_type": "text"
      },
      "source": [
        "<a href=\"https://colab.research.google.com/github/Aman2568/python_projects/blob/main/Tic_Tac_Toe.ipynb\" target=\"_parent\"><img src=\"https://colab.research.google.com/assets/colab-badge.svg\" alt=\"Open In Colab\"/></a>"
      ]
    },
    {
      "cell_type": "code",
      "execution_count": 1,
      "metadata": {
        "id": "Bx1bxhxRg2QY"
      },
      "outputs": [],
      "source": [
        "import math"
      ]
    },
    {
      "cell_type": "code",
      "source": [
        "def print_board(board):\n",
        "    for row in board:\n",
        "        print(\"|\".join(row))\n",
        "        print(\"-\" * 5)"
      ],
      "metadata": {
        "id": "NkzXr8cMhwxo"
      },
      "execution_count": 2,
      "outputs": []
    },
    {
      "cell_type": "code",
      "source": [
        "def check_winner(board):\n",
        "    for i in range(3):\n",
        "        if board[i][0] == board[i][1] == board[i][2] != ' ':\n",
        "            return board[i][0]\n",
        "        if board[0][i] == board[1][i] == board[2][i] != ' ':\n",
        "            return board[0][i]\n",
        "    if board[0][0] == board[1][1] == board[2][2] != ' ':\n",
        "        return board[0][0]\n",
        "    if board[0][2] == board[1][1] == board[2][0] != ' ':\n",
        "        return board[0][2]\n",
        "    if all(board[i][j] != ' ' for i in range(3) for j in range(3)):\n",
        "        return 'Draw'\n",
        "    return None"
      ],
      "metadata": {
        "id": "oFp3Rfthh04F"
      },
      "execution_count": 3,
      "outputs": []
    },
    {
      "cell_type": "code",
      "source": [
        "\n",
        "def minimax(board, depth, is_maximizing, alpha, beta):\n",
        "    winner = check_winner(board)\n",
        "    if winner == 'X':\n",
        "        return -1\n",
        "    elif winner == 'O':\n",
        "        return 1\n",
        "    elif winner == 'Draw':\n",
        "        return 0\n",
        "    if is_maximizing:\n",
        "        max_eval = -math.inf\n",
        "        for i in range(3):\n",
        "            for j in range(3):\n",
        "                if board[i][j] == ' ':\n",
        "                    board[i][j] = 'O'\n",
        "                    eval = minimax(board, depth + 1, False, alpha, beta)\n",
        "                    board[i][j] = ' '\n",
        "                    max_eval = max(max_eval, eval)\n",
        "                    alpha = max(alpha, eval)\n",
        "                    if beta <= alpha:\n",
        "                        break\n",
        "        return max_eval\n",
        "    else:\n",
        "        min_eval = math.inf\n",
        "        for i in range(3):\n",
        "            for j in range(3):\n",
        "                if board[i][j] == ' ':\n",
        "                    board[i][j] = 'X'\n",
        "                    eval = minimax(board, depth + 1, True, alpha, beta)\n",
        "                    board[i][j] = ' '\n",
        "                    min_eval = min(min_eval, eval)\n",
        "                    beta = min(beta, eval)\n",
        "                    if beta <= alpha:\n",
        "                        break\n",
        "        return min_eval"
      ],
      "metadata": {
        "id": "VqGLhoqVh3lS"
      },
      "execution_count": 4,
      "outputs": []
    },
    {
      "cell_type": "code",
      "source": [
        "def best_move(board):\n",
        "    best_val = -math.inf\n",
        "    move = (-1, -1)\n",
        "    for i in range(3):\n",
        "        for j in range(3):\n",
        "            if board[i][j] == ' ':\n",
        "                board[i][j] = 'O'\n",
        "                move_val = minimax(board, 0, False, -math.inf, math.inf)\n",
        "                board[i][j] = ' '\n",
        "                if move_val > best_val:\n",
        "                    move = (i, j)\n",
        "                    best_val = move_val\n",
        "    return move"
      ],
      "metadata": {
        "id": "MdtmSqvXiGZz"
      },
      "execution_count": 5,
      "outputs": []
    },
    {
      "cell_type": "code",
      "source": [
        "def play_game():\n",
        "    board = [[' ' for _ in range(3)] for _ in range(3)]\n",
        "    while True:\n",
        "        print_board(board)\n",
        "        if check_winner(board):\n",
        "            print(\"Game Over\")\n",
        "            break\n",
        "        row, col = map(int, input(\"Enter your move (row and column): \").split())\n",
        "        if board[row][col] == ' ':\n",
        "            board[row][col] = 'X'\n",
        "            if check_winner(board):\n",
        "                print_board(board)\n",
        "                print(\"You win!\")\n",
        "                break\n",
        "            move = best_move(board)\n",
        "            if move != (-1, -1):\n",
        "                board[move[0]][move[1]] = 'O'\n",
        "            if check_winner(board):\n",
        "                print_board(board)\n",
        "                print(\"AI wins!\")\n",
        "                break\n",
        "        else:\n",
        "            print(\"Invalid move, try again\")\n",
        "\n",
        "play_game()"
      ],
      "metadata": {
        "colab": {
          "base_uri": "https://localhost:8080/"
        },
        "id": "1EoQVXFbiH4X",
        "outputId": "dc6388a6-c89c-45f2-b7ca-a63647a5a895"
      },
      "execution_count": 8,
      "outputs": [
        {
          "output_type": "stream",
          "name": "stdout",
          "text": [
            " | | \n",
            "-----\n",
            " | | \n",
            "-----\n",
            " | | \n",
            "-----\n",
            "Enter your move (row and column): 1 1\n",
            "O| | \n",
            "-----\n",
            " |X| \n",
            "-----\n",
            " | | \n",
            "-----\n",
            "Enter your move (row and column): 0 0\n",
            "Invalid move, try again\n",
            "O| | \n",
            "-----\n",
            " |X| \n",
            "-----\n",
            " | | \n",
            "-----\n",
            "Enter your move (row and column): 0 1\n",
            "O|X| \n",
            "-----\n",
            " |X| \n",
            "-----\n",
            " |O| \n",
            "-----\n",
            "Enter your move (row and column): 2 2\n",
            "O|X|O\n",
            "-----\n",
            " |X| \n",
            "-----\n",
            " |O|X\n",
            "-----\n",
            "Enter your move (row and column): 1 2\n",
            "O|X|O\n",
            "-----\n",
            "O|X|X\n",
            "-----\n",
            " |O|X\n",
            "-----\n",
            "Enter your move (row and column): 1 0\n",
            "Invalid move, try again\n",
            "O|X|O\n",
            "-----\n",
            "O|X|X\n",
            "-----\n",
            " |O|X\n",
            "-----\n",
            "Enter your move (row and column): 2 0\n",
            "O|X|O\n",
            "-----\n",
            "O|X|X\n",
            "-----\n",
            "X|O|X\n",
            "-----\n",
            "You win!\n"
          ]
        }
      ]
    },
    {
      "cell_type": "code",
      "source": [],
      "metadata": {
        "id": "qyHl54DaiOaF"
      },
      "execution_count": null,
      "outputs": []
    }
  ]
}